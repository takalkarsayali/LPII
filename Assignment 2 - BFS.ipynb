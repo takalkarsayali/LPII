{
 "cells": [
  {
   "cell_type": "markdown",
   "metadata": {},
   "source": [
    "# Problem Statement : \n",
    "Implement Breadth First Search algorithm. Use an undirected \n",
    "graph and develop a recursive algorithm for searching all the \n",
    "vertices of a graph or tree data structure."
   ]
  },
  {
   "cell_type": "code",
   "execution_count": 2,
   "metadata": {},
   "outputs": [
    {
     "name": "stdout",
     "output_type": "stream",
     "text": [
      "Enter the number of vertices: 6\n",
      "Enter the number of edges: 6\n",
      "Enter an edge (source destination): A B\n",
      "Enter an edge (source destination): B C\n",
      "Enter an edge (source destination): C D\n",
      "Enter an edge (source destination): C E\n",
      "Enter an edge (source destination): E F\n",
      "Enter an edge (source destination): F G\n",
      "Breadth First Traversal:\n",
      "A B C D E F G B A C D E F G C B D E A F G D C B E A F G E C F B D G A F E G C B D A G F E C B D A "
     ]
    }
   ],
   "source": [
    "from collections import deque\n",
    "\n",
    "def bfs(graph, start_vertex):\n",
    "    queue = deque([start_vertex])\n",
    "\n",
    "    visited = set([start_vertex])\n",
    "\n",
    "    while queue:\n",
    "        vertex = queue.popleft()\n",
    "        print(vertex, end=\" \")\n",
    "\n",
    "        for neighbor in graph[vertex]:\n",
    "            if neighbor not in visited:\n",
    "                visited.add(neighbor)\n",
    "                queue.append(neighbor)\n",
    "\n",
    "\n",
    "graph = {}\n",
    "\n",
    "num_vertices = int(input(\"Enter the number of vertices: \"))\n",
    "num_edges = int(input(\"Enter the number of edges: \"))\n",
    "\n",
    "for _ in range(num_edges):\n",
    "    src, dest = input(\"Enter an edge (source destination): \").split()\n",
    "\n",
    "    if src in graph:\n",
    "        graph[src].append(dest)\n",
    "    else:\n",
    "        graph[src] = [dest]\n",
    "\n",
    "    if dest in graph:\n",
    "        graph[dest].append(src)\n",
    "    else:\n",
    "        graph[dest] = [src]\n",
    "\n",
    "print(\"Breadth First Traversal:\")\n",
    "visited = set()  \n",
    "for vertex in graph.keys():\n",
    "    if vertex not in visited:\n",
    "        bfs(graph, vertex)\n"
   ]
  },
  {
   "cell_type": "code",
   "execution_count": null,
   "metadata": {},
   "outputs": [],
   "source": []
  }
 ],
 "metadata": {
  "kernelspec": {
   "display_name": "Python 3",
   "language": "python",
   "name": "python3"
  },
  "language_info": {
   "codemirror_mode": {
    "name": "ipython",
    "version": 3
   },
   "file_extension": ".py",
   "mimetype": "text/x-python",
   "name": "python",
   "nbconvert_exporter": "python",
   "pygments_lexer": "ipython3",
   "version": "3.8.5"
  }
 },
 "nbformat": 4,
 "nbformat_minor": 5
}
