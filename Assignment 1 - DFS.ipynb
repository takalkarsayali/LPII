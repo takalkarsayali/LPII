{
 "cells": [
  {
   "cell_type": "markdown",
   "metadata": {},
   "source": [
    "# Problem Statement :\n",
    "Implement depth first search algorithm. Use an undirected graph \n",
    "and develop a recursive algorithm for searching all the vertices of a \n",
    "graph or tree data structure."
   ]
  },
  {
   "cell_type": "code",
   "execution_count": 1,
   "metadata": {},
   "outputs": [
    {
     "name": "stdout",
     "output_type": "stream",
     "text": [
      "Enter the number of vertices: 7\n",
      "Enter the number of edges: 6\n",
      "Enter an edge (source destination): A C\n",
      "Enter an edge (source destination): A B\n",
      "Enter an edge (source destination): B D\n",
      "Enter an edge (source destination): D E\n",
      "Enter an edge (source destination): E F\n",
      "Enter an edge (source destination): F A\n",
      "Depth First Traversal:\n",
      "A C B D E F "
     ]
    }
   ],
   "source": [
    "def dfs(graph, start_vertex, visited):\n",
    "    visited.add(start_vertex)\n",
    "    print(start_vertex, end=\" \")\n",
    "\n",
    "    for neighbor in graph[start_vertex]:\n",
    "        if neighbor not in visited:\n",
    "            dfs(graph, neighbor, visited)\n",
    "\n",
    "\n",
    "graph = {}\n",
    "\n",
    "num_vertices = int(input(\"Enter the number of vertices: \"))\n",
    "num_edges = int(input(\"Enter the number of edges: \"))\n",
    "\n",
    "for _ in range(num_edges):\n",
    "    src, dest = input(\"Enter an edge (source destination): \").split()\n",
    "    \n",
    "    if src in graph:\n",
    "        graph[src].append(dest)\n",
    "    else:\n",
    "        graph[src] = [dest]\n",
    "    \n",
    "    if dest in graph:\n",
    "        graph[dest].append(src)\n",
    "    else:\n",
    "        graph[dest] = [src]\n",
    "\n",
    "visited = set()\n",
    "\n",
    "print(\"Depth First Traversal:\")\n",
    "for vertex in graph.keys():\n",
    "    if vertex not in visited:\n",
    "        dfs(graph, vertex, visited)\n"
   ]
  },
  {
   "cell_type": "code",
   "execution_count": null,
   "metadata": {},
   "outputs": [],
   "source": []
  }
 ],
 "metadata": {
  "kernelspec": {
   "display_name": "Python 3",
   "language": "python",
   "name": "python3"
  },
  "language_info": {
   "codemirror_mode": {
    "name": "ipython",
    "version": 3
   },
   "file_extension": ".py",
   "mimetype": "text/x-python",
   "name": "python",
   "nbconvert_exporter": "python",
   "pygments_lexer": "ipython3",
   "version": "3.8.5"
  }
 },
 "nbformat": 4,
 "nbformat_minor": 5
}
